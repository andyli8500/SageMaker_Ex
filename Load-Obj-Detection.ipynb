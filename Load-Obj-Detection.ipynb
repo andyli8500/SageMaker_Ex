{
 "cells": [
  {
   "cell_type": "code",
   "execution_count": 1,
   "metadata": {},
   "outputs": [
    {
     "name": "stdout",
     "output_type": "stream",
     "text": [
      "--2018-11-27 23:13:58--  https://s3-ap-southeast-2.amazonaws.com/aws-jnbrent-general/DEMO-ObjectDetection/output/object-detection-2018-11-27-05-16-32-341/output/model.tar.gz\n",
      "Resolving s3-ap-southeast-2.amazonaws.com (s3-ap-southeast-2.amazonaws.com)... 54.231.249.5\n",
      "Connecting to s3-ap-southeast-2.amazonaws.com (s3-ap-southeast-2.amazonaws.com)|54.231.249.5|:443... connected.\n",
      "HTTP request sent, awaiting response... 200 OK\n",
      "Length: 159772216 (152M) [application/x-gzip]\n",
      "Saving to: ‘model.tar.gz’\n",
      "\n",
      "model.tar.gz        100%[===================>] 152.37M  7.65MB/s    in 22s     \n",
      "\n",
      "2018-11-27 23:14:22 (7.07 MB/s) - ‘model.tar.gz’ saved [159772216/159772216]\n",
      "\n"
     ]
    }
   ],
   "source": [
    "!wget https://s3-ap-southeast-2.amazonaws.com/aws-jnbrent-general/DEMO-ObjectDetection/output/object-detection-2018-11-27-05-16-32-341/output/model.tar.gz\n"
   ]
  },
  {
   "cell_type": "code",
   "execution_count": 2,
   "metadata": {},
   "outputs": [
    {
     "name": "stdout",
     "output_type": "stream",
     "text": [
      "model_algo_1-0000.params\n",
      "model_algo_1-symbol.json\n",
      "hyperparams.json\n"
     ]
    }
   ],
   "source": [
    "!tar xzvf model.tar.gz"
   ]
  },
  {
   "cell_type": "code",
   "execution_count": 1,
   "metadata": {},
   "outputs": [],
   "source": [
    "import mxnet as mx"
   ]
  },
  {
   "cell_type": "code",
   "execution_count": 92,
   "metadata": {},
   "outputs": [
    {
     "name": "stdout",
     "output_type": "stream",
     "text": [
      "deploy_model_algo_1-0000.params  model_algo_1-0000.params\r\n",
      "deploy_model_algo_1-symbol.json  model_algo_1-symbol.json\r\n",
      "hyperparams.json\r\n"
     ]
    }
   ],
   "source": [
    "!ls model"
   ]
  },
  {
   "cell_type": "code",
   "execution_count": 3,
   "metadata": {},
   "outputs": [
    {
     "name": "stdout",
     "output_type": "stream",
     "text": [
      "{\"label_width\": \"600\", \"early_stopping_min_epochs\": \"10\", \"epochs\": \"30\", \"overlap_threshold\": \"0.5\", \"lr_scheduler_factor\": \"0.1\", \"_num_kv_servers\": \"auto\", \"weight_decay\": \"0.0005\", \"mini_batch_size\": \"16\", \"use_pretrained_model\": \"1\", \"freeze_layer_pattern\": \"\", \"lr_scheduler_step\": \"10\", \"early_stopping\": \"False\", \"early_stopping_patience\": \"5\", \"momentum\": \"0.9\", \"num_training_samples\": \"4452\", \"optimizer\": \"sgd\", \"_tuning_objective_metric\": \"\", \"early_stopping_tolerance\": \"0.0\", \"learning_rate\": \"0.001\", \"kv_store\": \"device\", \"nms_threshold\": \"0.45\", \"num_classes\": \"80\", \"base_network\": \"resnet-50\", \"nms_topk\": \"400\", \"_kvstore\": \"device\", \"image_shape\": \"512\"}"
     ]
    }
   ],
   "source": [
    "!cat hyperparams.json"
   ]
  },
  {
   "cell_type": "code",
   "execution_count": 9,
   "metadata": {},
   "outputs": [
    {
     "name": "stdout",
     "output_type": "stream",
     "text": [
      "total 169488\r\n",
      "-rw-r--r-- 1 ec2-user ec2-user       676 Nov 27 06:24 hyperparams.json\r\n",
      "-rw-r--r-- 1 ec2-user ec2-user 173415924 Nov 27 06:24 model_algo_1-0000.params\r\n",
      "-rw-r--r-- 1 ec2-user ec2-user    132711 Nov 27 06:24 model_algo_1-symbol.json\r\n"
     ]
    }
   ],
   "source": [
    "!ls model -l"
   ]
  },
  {
   "cell_type": "markdown",
   "metadata": {},
   "source": [
    "### Convert model to `deloy`. Aka removing all the loss layers within it"
   ]
  },
  {
   "cell_type": "code",
   "execution_count": 62,
   "metadata": {},
   "outputs": [
    {
     "name": "stdout",
     "output_type": "stream",
     "text": [
      "Cloning into 'incubator-mxnet'...\n",
      "remote: Enumerating objects: 51, done.\u001b[K\n",
      "remote: Counting objects: 100% (51/51), done.\u001b[K\n",
      "remote: Compressing objects: 100% (42/42), done.\u001b[K\n",
      "remote: Total 80457 (delta 17), reused 13 (delta 9), pack-reused 80406\u001b[K\n",
      "Receiving objects: 100% (80457/80457), 48.64 MiB | 27.02 MiB/s, done.\n",
      "Resolving deltas: 100% (52908/52908), done.\n",
      "Checking out files: 100% (2883/2883), done.\n"
     ]
    }
   ],
   "source": [
    "!git clone https://github.com/apache/incubator-mxnet.git"
   ]
  },
  {
   "cell_type": "code",
   "execution_count": 69,
   "metadata": {
    "scrolled": true
   },
   "outputs": [
    {
     "name": "stdout",
     "output_type": "stream",
     "text": [
      "Saved model: /home/ec2-user/SageMaker/efs/reproduce/Load-Obj-Detection-Local/model/deploy_model_algo_1-0000.params\n",
      "Saved symbol: /home/ec2-user/SageMaker/efs/reproduce/Load-Obj-Detection-Local/model/deploy_model_algo_1-symbol.json\n"
     ]
    }
   ],
   "source": [
    "%%sh\n",
    "cd incubator-mxnet/example/ssd\n",
    "python deploy.py --num-class 80 --network resnet50 --data-shape 512 --prefix /home/ec2-user/SageMaker/efs/reproduce/Load-Obj-Detection-Local/model/model_algo_1"
   ]
  },
  {
   "cell_type": "markdown",
   "metadata": {},
   "source": [
    "### Load the model"
   ]
  },
  {
   "cell_type": "code",
   "execution_count": 77,
   "metadata": {},
   "outputs": [],
   "source": [
    "# loading the model\n",
    "# I have a model folder where\n",
    "# !ls model -l\n",
    "# -rw-r--r-- 1 ec2-user ec2-user       676 Nov 27 06:24 hyperparams.json\n",
    "# -rw-r--r-- 1 ec2-user ec2-user 173415924 Nov 27 06:24 model_algo_1-0000.params\n",
    "# -rw-r--r-- 1 ec2-user ec2-user    132711 Nov 27 06:24 model_algo_1-symbol.json\n",
    "\n",
    "sym, arg_params, aux_params = mx.model.load_checkpoint('model/deploy_model_algo_1', 0)\n",
    "mod = mx.mod.Module(symbol=sym, context=mx.cpu(), label_names=None)\n",
    "mod.bind(data_shapes=[('data', (1,3,512,512))], for_training=False)\n",
    "mod.set_params(arg_params, aux_params, allow_missing=True)"
   ]
  },
  {
   "cell_type": "markdown",
   "metadata": {},
   "source": [
    "### Predict with model"
   ]
  },
  {
   "cell_type": "code",
   "execution_count": 80,
   "metadata": {},
   "outputs": [],
   "source": [
    "import matplotlib.pyplot as plt\n",
    "import numpy as np\n",
    "from collections import namedtuple\n",
    "Batch = namedtuple('Batch', ['data'])"
   ]
  },
  {
   "cell_type": "code",
   "execution_count": 81,
   "metadata": {},
   "outputs": [],
   "source": [
    "def get_image(url, show=False):\n",
    "    # download and show the image. Remove query string from the file name.\n",
    "    fname = mx.test_utils.download(url, fname=url.split('/')[-1].split('?')[0])\n",
    "    img = mx.image.imread(fname)\n",
    "    if img is None:\n",
    "        return None\n",
    "    if show:\n",
    "        plt.imshow(img.asnumpy())\n",
    "        plt.axis('off')\n",
    "    # convert into format (batch, RGB, width, height)\n",
    "    img = mx.image.imresize(img, 512, 512) # resize\n",
    "    img = img.transpose((2, 0, 1)) # Channel first\n",
    "    img = img.expand_dims(axis=0) # batchify\n",
    "    img = img.astype('float32') # for gpu context\n",
    "    return img"
   ]
  },
  {
   "cell_type": "code",
   "execution_count": 82,
   "metadata": {},
   "outputs": [],
   "source": [
    "img = get_image('https://github.com/dmlc/web-data/blob/master/mxnet/doc/tutorials/python/predict_image/cat.jpg?raw=true')"
   ]
  },
  {
   "cell_type": "code",
   "execution_count": 83,
   "metadata": {},
   "outputs": [],
   "source": [
    "mod.forward(Batch([img]))"
   ]
  },
  {
   "cell_type": "code",
   "execution_count": 85,
   "metadata": {},
   "outputs": [],
   "source": [
    "# this gives you a really big array\n",
    "dets = mod.get_outputs()[0]"
   ]
  },
  {
   "cell_type": "code",
   "execution_count": 91,
   "metadata": {},
   "outputs": [
    {
     "data": {
      "text/plain": [
       "array([ 0.11025127,  0.01140241,  0.08131813, ...,  0.03327122,\n",
       "        0.92099047,  0.97840822], dtype=float32)"
      ]
     },
     "execution_count": 91,
     "metadata": {},
     "output_type": "execute_result"
    }
   ],
   "source": [
    "# only the positive values is what it is looking for\n",
    "npdets = dets.asnumpy()\n",
    "npdets[npdets>0]"
   ]
  },
  {
   "cell_type": "code",
   "execution_count": null,
   "metadata": {},
   "outputs": [],
   "source": []
  },
  {
   "cell_type": "code",
   "execution_count": null,
   "metadata": {},
   "outputs": [],
   "source": []
  },
  {
   "cell_type": "code",
   "execution_count": null,
   "metadata": {},
   "outputs": [],
   "source": []
  },
  {
   "cell_type": "code",
   "execution_count": 66,
   "metadata": {},
   "outputs": [
    {
     "name": "stdout",
     "output_type": "stream",
     "text": [
      "/home/ec2-user/SageMaker/efs/reproduce/Load-Obj-Detection-Local\r\n"
     ]
    }
   ],
   "source": [
    "!pwd"
   ]
  },
  {
   "cell_type": "code",
   "execution_count": 1,
   "metadata": {},
   "outputs": [
    {
     "name": "stdout",
     "output_type": "stream",
     "text": [
      "/home/ec2-user/SageMaker/SageMaker_Ex\r\n"
     ]
    }
   ],
   "source": [
    "!pwd"
   ]
  },
  {
   "cell_type": "code",
   "execution_count": null,
   "metadata": {},
   "outputs": [],
   "source": []
  }
 ],
 "metadata": {
  "kernelspec": {
   "display_name": "conda_mxnet_p36",
   "language": "python",
   "name": "conda_mxnet_p36"
  },
  "language_info": {
   "codemirror_mode": {
    "name": "ipython",
    "version": 3
   },
   "file_extension": ".py",
   "mimetype": "text/x-python",
   "name": "python",
   "nbconvert_exporter": "python",
   "pygments_lexer": "ipython3",
   "version": "3.6.5"
  }
 },
 "nbformat": 4,
 "nbformat_minor": 2
}
